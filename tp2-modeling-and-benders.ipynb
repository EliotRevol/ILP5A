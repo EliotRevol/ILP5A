{
 "cells": [
  {
   "cell_type": "markdown",
   "metadata": {},
   "source": [
    "# TP2 - Modeling using docplex"
   ]
  },
  {
   "cell_type": "markdown",
   "metadata": {},
   "source": [
    "## 1. The `docplex` python package\n",
    "\n",
    "`DOcplex` is a python package developped by IBM &mdash; It provides easy-to-use API for IBM solvers Cplex and Cpoptimizer.\n",
    "\n",
    "DOcplex documentation for mathematical programming can be found here: http://ibmdecisionoptimization.github.io/docplex-doc/#mathematical-programming-modeling-for-python-using-docplex-mp-docplex-mp"
   ]
  },
  {
   "cell_type": "markdown",
   "metadata": {},
   "source": [
    "## 2. Solving TSP using `docplex`\n",
    "\n",
    "### 2.1. TSP model using `docplex`\n",
    "\n",
    "**Exercice:** Using `docplex`, create a model for the travelling salesman problem using the MTZ or Flow formulation and compare them."
   ]
  },
  {
   "cell_type": "code",
   "execution_count": 1,
   "metadata": {},
   "outputs": [
    {
     "name": "stdout",
     "output_type": "stream",
     "text": [
      "Version identifier: 22.1.1.0 | 2022-11-28 | 9160aff4d\n",
      "CPXPARAM_Read_DataCheck                          1\n",
      "Tried aggregator 1 time.\n",
      "No LP presolve or aggregator reductions.\n",
      "Presolve time = 0.00 sec. (0.00 ticks)\n",
      "z* = 0.0\n"
     ]
    }
   ],
   "source": [
    "from docplex.mp.model import Model\n",
    "import tsp.data as data\n",
    "\n",
    "distances = data.grid42\n",
    "N = len(distances)\n",
    "\n",
    "tsp = Model(\"TSP\")\n",
    "tsp.log_output = True\n",
    "\n",
    "# define variables x_i_j=1 : route from i to j is visited\n",
    "x = [[tsp.binary_var(name=f\"x_{i}_{j}\") for i in range(N)] for j in range(N)]\n",
    "\n",
    "# tsp.add_constraints()\n",
    "\n",
    "\n",
    "solution = tsp.solve()\n",
    "print(\"z* =\", solution.objective_value)\n"
   ]
  },
  {
   "cell_type": "markdown",
   "metadata": {},
   "source": [
    "The largest set of distances contains 42 nodes, and should be easily solved by `docplex`.\n",
    "\n",
    "### 2.2. Generating random TSP instances\n",
    "\n",
    "**Question:** What method could you implement to generate a realistic set of distances for $n$ customers?\n",
    "\n",
    "**Exercice:** Implement the method proposed above and test it."
   ]
  },
  {
   "cell_type": "code",
   "execution_count": null,
   "metadata": {},
   "outputs": [],
   "source": [
    "import numpy as np\n",
    "import scipy.spatial.distance\n",
    "\n",
    "\n",
    "def generate_distances(n: int):\n",
    "    ...  # TODO\n",
    "\n",
    "\n",
    "from docplex.mp.model import Model\n",
    "\n",
    "distances = generate_distances(50)\n",
    "print(distances)\n",
    "\n",
    "N = len(distances)\n",
    "\n",
    "tsp = Model(\"TSP\")\n",
    "tsp.log_output = True\n",
    "\n",
    "...  # TODO: Copy your model from the first question here.\n",
    "\n",
    "solution = tsp.solve()\n",
    "print(\"z* =\", solution.objective_value)\n"
   ]
  },
  {
   "cell_type": "markdown",
   "metadata": {},
   "source": [
    "## 3. Solving Warehouse Allocation using Benders decomposition with `docplex`\n",
    "\n",
    "### 3.1. The warehouse problem\n",
    "\n",
    "A company needs to supply a set of $n$ clients and needs to open new warehouses (from a\n",
    "set of $m$ possible warehouses).\n",
    "Opening a warehouse $j$ costs $f_j$ and supplying a client $i$ from a warehouse $j$ costs $c_{ij}$ per supply unit.\n",
    "Which warehouses should be opened in order to satisfy all clients while minimizing the total cost?\n",
    "\n",
    "### 3.2. Solving the warehouse problem with a single ILP\n",
    "\n",
    "- $y_{j} = 1$ if and only if warehouse $j$ is opened.\n",
    "- $x_{ij}$ is the fraction supplied from warehouse $j$ to customer $i$.\n",
    "\n",
    "$\n",
    "\\begin{align}\n",
    "  \\text{min.} \\quad & \\sum_{i=1}^{n} \\sum_{j=1}^{m} c_{ij} x_{ij} + \\sum_{j=1}^{m} f_{j} y_{j} & \\\\\n",
    "  \\text{s.t.} \\quad & \\sum_{j=1}^{m} x_{ij} = 1, & \\forall i \\in\\{1,\\ldots,n\\}\\\\\n",
    "                    & x_{ij} \\leq y_{j}, & \\forall i\\in\\{1,\\ldots,n\\},\\forall j\\in\\{1,\\ldots,m\\}\\\\\n",
    "                    & y_{j} \\in \\left\\{0,~1\\right\\}, & \\forall j \\in \\left\\{1,~\\ldots,~m\\right\\}\\\\\n",
    "                    & x_{ij} \\geq 0, & \\forall i \\in \\left\\{1,~\\ldots,~n\\right\\}, \\forall j \\in \\left\\{1,~\\ldots,~m\\right\\}\n",
    "\\end{align}\n",
    "$\n",
    "\n",
    "\n",
    "**Exercice:** Implement the ILP model for the warehouse allocation problem and test it on the given instance."
   ]
  },
  {
   "cell_type": "code",
   "execution_count": 8,
   "metadata": {},
   "outputs": [
    {
     "name": "stdout",
     "output_type": "stream",
     "text": [
      "[[docplex.mp.Var(type=C,name='x_0_0'), docplex.mp.Var(type=C,name='x_1_0'), docplex.mp.Var(type=C,name='x_2_0')], [docplex.mp.Var(type=C,name='x_0_1'), docplex.mp.Var(type=C,name='x_1_1'), docplex.mp.Var(type=C,name='x_2_1')], [docplex.mp.Var(type=C,name='x_0_2'), docplex.mp.Var(type=C,name='x_1_2'), docplex.mp.Var(type=C,name='x_2_2')]]\n",
      "Version identifier: 22.1.1.0 | 2022-11-28 | 9160aff4d\n"
     ]
    },
    {
     "name": "stdout",
     "output_type": "stream",
     "text": [
      "CPXPARAM_Read_DataCheck                          1\n",
      "Found incumbent of value 40.000000 after 0.01 sec. (0.00 ticks)\n",
      "Tried aggregator 1 time.\n",
      "MIP Presolve eliminated 9 rows and 0 columns.\n",
      "Reduced MIP has 12 rows, 12 columns, and 27 nonzeros.\n",
      "Reduced MIP has 3 binaries, 0 generals, 0 SOSs, and 0 indicators.\n",
      "Presolve time = 0.01 sec. (0.02 ticks)\n",
      "Probing time = 0.00 sec. (0.00 ticks)\n",
      "Tried aggregator 1 time.\n",
      "Detecting symmetries...\n",
      "Reduced MIP has 12 rows, 12 columns, and 27 nonzeros.\n",
      "Reduced MIP has 3 binaries, 0 generals, 0 SOSs, and 0 indicators.\n",
      "Presolve time = 0.00 sec. (0.02 ticks)\n",
      "Probing time = 0.00 sec. (0.00 ticks)\n",
      "MIP emphasis: balance optimality and feasibility.\n",
      "MIP search method: dynamic search.\n",
      "Parallel mode: deterministic, using up to 20 threads.\n",
      "Root relaxation solution time = 0.00 sec. (0.02 ticks)\n",
      "\n",
      "        Nodes                                         Cuts/\n",
      "   Node  Left     Objective  IInf  Best Integer    Best Bound    ItCnt     Gap\n",
      "\n",
      "*     0+    0                           40.0000        0.0000           100.00%\n",
      "      0     0       36.0000     3       40.0000       36.0000        7   10.00%\n",
      "*     0+    0                           38.0000       36.0000             5.26%\n",
      "      0     0        cutoff             38.0000                      7    0.00%\n",
      "Elapsed time = 0.12 sec. (0.11 ticks, tree = 0.01 MB, solutions = 2)\n",
      "\n",
      "Root node processing (before b&c):\n",
      "  Real time             =    0.12 sec. (0.11 ticks)\n",
      "Parallel b&c, 20 threads:\n",
      "  Real time             =    0.00 sec. (0.00 ticks)\n",
      "  Sync time (average)   =    0.00 sec.\n",
      "  Wait time (average)   =    0.00 sec.\n",
      "                          ------------\n",
      "Total (root+branch&cut) =    0.12 sec. (0.11 ticks)\n",
      "z* = 38.0\n"
     ]
    }
   ],
   "source": [
    "from docplex.mp.model import Model\n",
    "import numpy as np\n",
    "\n",
    "# We will start with a small instances with 3 warehouses and 3 clients:\n",
    "N = 3\n",
    "M = 3\n",
    "\n",
    "# Opening and distribution costs:\n",
    "f = [20, 20, 20]\n",
    "c = [[15, 1, 2], [1, 16, 3], [4, 1, 17]]\n",
    "\n",
    "wa = Model(\"Warehouse Allocation\")\n",
    "wa.log_output = True\n",
    "\n",
    "x = [[wa.continuous_var(name=f\"x_{i}_{j}\") for i in range(N)] for j in range(M)]\n",
    "y = [wa.binary_var(name=f\"y_{i}\") for i in range(M)]\n",
    "\n",
    "print(x)\n",
    "\n",
    "\n",
    "for i in range(N):\n",
    "  wa.add_constraint(sum(x[i])==1)\n",
    "  for j in range(M):\n",
    "    wa.add_constraint(x[i][j]<=y[j]) \n",
    "    wa.add_constraint(x[i][j]>=0) \n",
    "\n",
    "objective = sum(f[j]*y[j] for j in range(M)) + sum(c[i][j]*x[i][j] for i in range(N) for j in range(M))\n",
    "  \n",
    "wa.minimize(objective)\n",
    "\n",
    "solution = wa.solve()\n",
    "print(\"z* =\", solution.objective_value)\n"
   ]
  },
  {
   "cell_type": "markdown",
   "metadata": {},
   "source": [
    "### 3.3. Benders' decomposition for the Warehouse Allocation problem\n",
    "\n",
    "We are going to use Benders' decomposition to solve the Warehouse Allocation problem. \n",
    "\n",
    "#### Dual subproblem\n",
    "\n",
    "$\n",
    "\\begin{align}\n",
    "\\text{max.} \\quad & \\sum_{i=1}^{n} v_{i} - \\sum_{i=1}^{n}\\sum_{j=1}^{m} \\bar{y}_{j} u_{ij} & \\\\\n",
    "\\text{s.t.} \\quad & v_{i} - u_{ij} \\leq c_{ij}, & \\forall i\\in\\{1,\\ldots,n\\},\\forall j\\in\\{1,\\ldots,m\\}\\\\\n",
    "                  & v_{i} \\in\\mathbb{R},\\ u_{ij} \\geq 0 & \\forall i \\in\\{1,\\ldots,n\\}, \\forall j\\in\\{1,\\ldots,m\\}\n",
    "\\end{align}\n",
    "$\n",
    "\n",
    "#### Master problem\n",
    "\n",
    "$\n",
    "\\begin{align}\n",
    "  \\text{min.} \\quad & \\sum_{j=1}^{m} f_j y_j + z & \\\\\n",
    "  \\text{s.t.} \\quad & z \\geq \\sum_{i=1}^{n}v_i^p - \\sum_{i=1}^{n} \\sum_{j=1}^{m} u_{ij}^p y_j, & \\forall p\\in l_1\\\\\n",
    "                    & 0 \\geq \\sum_{i=1}^{n}v_i^r - \\sum_{i=1}^{n} \\sum_{j=1}^{n} u_{ij}^r y_j, & \\forall r\\in l_2\\\\\n",
    "                    & y_{j} \\in\\{0,1\\}, & \\forall j\\in\\{1,\\ldots,m\\}\n",
    "\\end{align}\n",
    "$"
   ]
  },
  {
   "cell_type": "markdown",
   "metadata": {},
   "source": [
    "**Exercice:** Implement the method `create_master_problem` that creates the initial master problem (without feasibility or optimality constraints) for the warehouse allocation problem.\n",
    "\n",
    "<div class=\"alert alert-info alert-block\">\n",
    "\n",
    "You can use `print(m.export_as_lp_string())` to display a textual representation of a `docplex` model `m`.\n",
    "    \n",
    "</div>"
   ]
  },
  {
   "cell_type": "code",
   "execution_count": null,
   "metadata": {},
   "outputs": [
    {
     "name": "stdout",
     "output_type": "stream",
     "text": [
      "\\ This file has been generated by DOcplex\n",
      "\\ ENCODING=ISO-8859-1\n",
      "\\Problem name: Annargh problem\n",
      "\n",
      "Minimize\n",
      " obj: x1 + 60\n",
      "Subject To\n",
      "\n",
      "Bounds\n",
      "End\n",
      "\n"
     ]
    }
   ],
   "source": [
    "from docplex.mp.model import Model\n",
    "from docplex.mp.linear import Var\n",
    "from docplex.mp.constr import AbstractConstraint\n",
    "from typing import List, Sequence, Tuple\n",
    "\n",
    "\n",
    "def create_master_problem(\n",
    "    N: int, M: int, f: Sequence[float], c: Sequence[Sequence[float]]\n",
    ") -> Tuple[Model, Var, Sequence[Var]]:\n",
    "    \"\"\"\n",
    "    Creates the initial Benders master problem for the Warehouse Allocation problem.\n",
    "\n",
    "    Args:\n",
    "        N: Number of clients.\n",
    "        M: Number of warehouses.\n",
    "        f: Array-like containing costs of opening warehouses.\n",
    "        c: 2D-array like containing transport costs from client to warehouses.\n",
    "\n",
    "    Returns:\n",
    "        A 3-tuple containing the docplex problem, the z variable and the y variables.\n",
    "    \"\"\"\n",
    "\n",
    "    wa = Model(\"Annargh problem\")\n",
    "\n",
    "    z = wa.continuous_var()\n",
    "    \n",
    "    y = [wa.integer_var(name=f'y_{j}') for j in range(M)]\n",
    "    # y = [1 for i in range(M)]\n",
    "    \n",
    "    \n",
    "    objective = sum(f[j]*y[j] for j in range(M)) + z\n",
    "    wa.minimize(objective)       \n",
    "\n",
    "    return wa, z, y\n",
    "\n",
    "\n",
    "# Check your method:\n",
    "wa, z, y = create_master_problem(N, M, f, c)\n",
    "print(wa.export_as_lp_string())\n"
   ]
  },
  {
   "cell_type": "markdown",
   "metadata": {},
   "source": [
    "**Exercice:** Implement the method `add_optimality_constraints` that add optimality constraints to the Benders master problem. "
   ]
  },
  {
   "cell_type": "code",
   "execution_count": 18,
   "metadata": {},
   "outputs": [],
   "source": [
    "def add_optimality_constraint(\n",
    "    N: int,\n",
    "    M: int,\n",
    "    wa: Model,\n",
    "    z: Var,\n",
    "    y: Sequence[Var],\n",
    "    v: Sequence[float],\n",
    "    u: Sequence[Sequence[float]],\n",
    ") -> List[AbstractConstraint]:\n",
    "    \"\"\"\n",
    "    Adds an optimality constraints to the given Warehouse Allocation model\n",
    "    using the given optimal values from the Benders dual subproblem.\n",
    "\n",
    "    Args:\n",
    "        N: Number of clients.\n",
    "        M: Number of warehouses.\n",
    "        wa: The Benders master problem (docplex.mp.model.Model).\n",
    "        z: The z variable of the master problem.\n",
    "        y: The y variables of the master problem.\n",
    "        v: The optimal values for the v variables of the Benders dual subproblem.\n",
    "        u: The optimal values for the u variables of the Benders dual subproblem.\n",
    "\n",
    "    Return: The optimality constraint added.\n",
    "    \"\"\"\n",
    "    \n",
    "    \n",
    "    \n",
    "    sum_uy = sum(u[i][j]*y[j] for j in range(M) for i in range(N))\n",
    "    sum_v = sum(v[i] for i in range(N))\n",
    "    constraint = [z >= sum_v - sum_uy]\n",
    "    \n",
    "    return constraint\n"
   ]
  },
  {
   "cell_type": "markdown",
   "metadata": {},
   "source": [
    "**Exercice:** Implement the method `add_feasibility_constraints` that add feasibility constraints to the Benders master problem. "
   ]
  },
  {
   "cell_type": "code",
   "execution_count": 19,
   "metadata": {},
   "outputs": [],
   "source": [
    "def add_feasibility_constraints(\n",
    "    N: int,\n",
    "    M: int,\n",
    "    wa: Model,\n",
    "    z: Var,\n",
    "    y: Sequence[Var],\n",
    "    v: Sequence[float],\n",
    "    u: Sequence[Sequence[float]],\n",
    ") -> List[AbstractConstraint]:\n",
    "    \"\"\"\n",
    "    Adds an optimality constraints to the given Warehouse Allocation model\n",
    "    using the given optimal values from the Benders dual subproblem.\n",
    "\n",
    "    Args:\n",
    "      - N: Number of clients.\n",
    "      - M: Number of warehouses.\n",
    "      - wa: The Benders master problem (docplex.mp.model.Model).\n",
    "      - z: The z variable of the master problem.\n",
    "      - y: The y variables of the master problem.\n",
    "      - v: The extreme rays for the v variables of the Benders dual subproblem.\n",
    "      - u: The extreme rays for the u variables of the Benders dual subproblem.\n",
    "\n",
    "    Returns:\n",
    "        The feasibility constraint added.\n",
    "    \"\"\"\n",
    "    \n",
    "    constante = wa.binary_var(name='zero')\n",
    "    \n",
    "    sum_uy = sum(u[i][j]*y[j] for j in range(M) for i in range(N))\n",
    "    sum_v = sum(v[i] for i in range(N))\n",
    "    constraint = [sum_v - sum_uy <= constante]\n",
    "    constraint.append(constante <= 0)\n",
    "    \n",
    "    return constraint\n"
   ]
  },
  {
   "cell_type": "markdown",
   "metadata": {},
   "source": [
    "**Exercice:** Implement the method `create_dual_subproblem` that, given a solution `y` of the master problem, create the corresponding Benders dual subproblem.\n",
    "\n",
    "$\n",
    "\\begin{align}\n",
    "\\text{max.} \\quad & \\sum_{i=1}^{n} v_{i} - \\sum_{i=1}^{n}\\sum_{j=1}^{m} \\bar{y}_{j} u_{ij} & \\\\\n",
    "\\text{s.t.} \\quad & v_{i} - u_{ij} \\leq c_{ij}, & \\forall i\\in\\{1,\\ldots,n\\},\\forall j\\in\\{1,\\ldots,m\\}\\\\\n",
    "                  & v_{i} \\in\\mathbb{R},\\ u_{ij} \\geq 0 & \\forall i \\in\\{1,\\ldots,n\\}, \\forall j\\in\\{1,\\ldots,m\\}\n",
    "\\end{align}\n",
    "$"
   ]
  },
  {
   "cell_type": "code",
   "execution_count": 20,
   "metadata": {},
   "outputs": [
    {
     "name": "stdout",
     "output_type": "stream",
     "text": [
      "\\ This file has been generated by DOcplex\n",
      "\\ ENCODING=ISO-8859-1\n",
      "\\Problem name: Warehouse Allocation - Benders dual subproblem\n",
      "\n",
      "Maximize\n",
      " obj: - u_0_0 - u_1_0 - u_2_0 - u_0_1 - u_1_1 - u_2_1 - u_0_2 - u_1_2 - u_2_2\n",
      "      + v_0 + v_1 + v_2\n",
      "Subject To\n",
      "\n",
      "Bounds\n",
      "End\n",
      "\n"
     ]
    }
   ],
   "source": [
    "from docplex.mp.model import Model\n",
    "\n",
    "\n",
    "def create_dual_subproblem(\n",
    "    N: int, M: int, f: Sequence[float], c: Sequence[Sequence[float]], y: Sequence[int]\n",
    ") -> Tuple[Model, Sequence[Var], Sequence[Sequence[Var]]]:\n",
    "    \"\"\"\n",
    "    Creates a Benders dual subproblem for the Warehouse Allocation problem corresponding\n",
    "    to the given master solution.\n",
    "\n",
    "    Args:\n",
    "        N: Number of clients.\n",
    "        M: Number of warehouses.\n",
    "        f: Array-like containing costs of opening warehouses.\n",
    "        c: 2D-array like containing transport costs from client to warehouses.\n",
    "        y: Values of the y variables from the Benders master problem.\n",
    "\n",
    "    Returns:\n",
    "        A 3-tuple containing the docplex problem, the v variable and the u variables.\n",
    "    \"\"\"\n",
    "\n",
    "    dsp = Model(\"Warehouse Allocation - Benders dual subproblem\")\n",
    "\n",
    "    # We disable pre-solve to be able to retrieve a meaningful status in the main\n",
    "    # algorithm:\n",
    "    dsp.parameters.preprocessing.presolve.set(0)\n",
    "\n",
    "    u = [[dsp.continuous_var(name=f'u_{i}_{j}') for i in range(N)] for j in range(M)] \n",
    "    v = [dsp.continuous_var(name=f'v_{i}') for i in range(N)]\n",
    "    \n",
    "    constraints = []\n",
    "    for i in range(N):\n",
    "        for j in range(M):\n",
    "            constraints.append(v[i] - u[i][j] <= c[i][j])\n",
    "       \n",
    "    \n",
    "    sum_v = sum(v[i] for i in range(N))\n",
    "    sum_yu = sum(y[j]*u[i][j] for j in range(M) for i in range(N))\n",
    "    objective = sum_v - sum_yu\n",
    "    \n",
    "    dsp.maximize(objective)\n",
    "\n",
    "    return dsp, v, u\n",
    "\n",
    "\n",
    "# Check your method (assuming y = [1 1 1 ... 1]):\n",
    "dsp, v, u = create_dual_subproblem(N, M, f, c, [1] * M)\n",
    "print(dsp.export_as_lp_string())\n"
   ]
  },
  {
   "cell_type": "markdown",
   "metadata": {},
   "source": [
    "**Exercice:** Using the methods you implemented, write the Benders decomposition algorithm for the warehouse allocation problem.\n",
    "\n",
    "<!-- <div class=\"alert alert-block alert-info\"> -->\n",
    "\n",
    "The `get_extreme_rays` function can be used to retrieve the extreme rays associated with an unbounded solution of the dual subproblem.\n",
    "    \n",
    "<!-- </div>\n",
    "\n",
    "<div class=\"alert alert-block alert-info\"> -->\n",
    "    \n",
    "You can use `model.get_solve_status()` to obtain the status of the resolution and compare it to members of `JobSolveStatus`:\n",
    "    \n",
    "```python\n",
    "if model.get_solve_status() == JobSolveStatus.OPTIMAL_SOLUTION:\n",
    "    pass\n",
    "```\n",
    "    \n",
    "<!-- </div> -->"
   ]
  },
  {
   "cell_type": "code",
   "execution_count": null,
   "metadata": {},
   "outputs": [
    {
     "name": "stdout",
     "output_type": "stream",
     "text": [
      "Iteration 1\n"
     ]
    },
    {
     "ename": "CplexSolverError",
     "evalue": "CPLEX Error  1217: No solution exists.",
     "output_type": "error",
     "traceback": [
      "\u001b[0;31m---------------------------------------------------------------------------\u001b[0m",
      "\u001b[0;31mCplexSolverError\u001b[0m                          Traceback (most recent call last)",
      "Cell \u001b[0;32mIn[25], line 66\u001b[0m\n\u001b[1;32m     64\u001b[0m u \u001b[38;5;241m=\u001b[39m [[wa\u001b[38;5;241m.\u001b[39mcontinuous_var(name\u001b[38;5;241m=\u001b[39m\u001b[38;5;124mf\u001b[39m\u001b[38;5;124m'\u001b[39m\u001b[38;5;124mu_\u001b[39m\u001b[38;5;132;01m{\u001b[39;00mi\u001b[38;5;132;01m}\u001b[39;00m\u001b[38;5;124m_\u001b[39m\u001b[38;5;132;01m{\u001b[39;00mj\u001b[38;5;132;01m}\u001b[39;00m\u001b[38;5;124m'\u001b[39m) \u001b[38;5;28;01mfor\u001b[39;00m i \u001b[38;5;129;01min\u001b[39;00m \u001b[38;5;28mrange\u001b[39m(N)] \u001b[38;5;28;01mfor\u001b[39;00m j \u001b[38;5;129;01min\u001b[39;00m \u001b[38;5;28mrange\u001b[39m(M)] \n\u001b[1;32m     65\u001b[0m v \u001b[38;5;241m=\u001b[39m [wa\u001b[38;5;241m.\u001b[39mcontinuous_var(name\u001b[38;5;241m=\u001b[39m\u001b[38;5;124mf\u001b[39m\u001b[38;5;124m'\u001b[39m\u001b[38;5;124mv_\u001b[39m\u001b[38;5;132;01m{\u001b[39;00mi\u001b[38;5;132;01m}\u001b[39;00m\u001b[38;5;124m'\u001b[39m) \u001b[38;5;28;01mfor\u001b[39;00m i \u001b[38;5;129;01min\u001b[39;00m \u001b[38;5;28mrange\u001b[39m(N)]\n\u001b[0;32m---> 66\u001b[0m v, u \u001b[38;5;241m=\u001b[39m \u001b[43mget_extreme_rays\u001b[49m\u001b[43m(\u001b[49m\u001b[43mN\u001b[49m\u001b[43m,\u001b[49m\u001b[43m \u001b[49m\u001b[43mM\u001b[49m\u001b[43m,\u001b[49m\u001b[43m \u001b[49m\u001b[43mwa\u001b[49m\u001b[43m,\u001b[49m\u001b[43m \u001b[49m\u001b[43mv\u001b[49m\u001b[43m,\u001b[49m\u001b[43m \u001b[49m\u001b[43mu\u001b[49m\u001b[43m)\u001b[49m\n\u001b[1;32m     68\u001b[0m wa\u001b[38;5;241m.\u001b[39madd_constraint(add_optimality_constraint(N, M, wa, z, y, v, u))\n\u001b[1;32m     69\u001b[0m wa\u001b[38;5;241m.\u001b[39madd_constraint(add_feasibility_constraints(N, M, wa, z, y, v, u))\n",
      "Cell \u001b[0;32mIn[25], line 23\u001b[0m, in \u001b[0;36mget_extreme_rays\u001b[0;34m(N, M, model, v, u)\u001b[0m\n\u001b[1;32m      5\u001b[0m \u001b[38;5;28;01mdef\u001b[39;00m \u001b[38;5;21mget_extreme_rays\u001b[39m(\n\u001b[1;32m      6\u001b[0m     N: \u001b[38;5;28mint\u001b[39m, M: \u001b[38;5;28mint\u001b[39m, model: Model, v: Sequence[Var], u: Sequence[Sequence[Var]]\n\u001b[1;32m      7\u001b[0m ) \u001b[38;5;241m-\u001b[39m\u001b[38;5;241m>\u001b[39m Tuple[Sequence[\u001b[38;5;28mfloat\u001b[39m], Sequence[Sequence[\u001b[38;5;28mfloat\u001b[39m]]]:\n\u001b[1;32m      8\u001b[0m \u001b[38;5;250m    \u001b[39m\u001b[38;5;124;03m\"\"\"\u001b[39;00m\n\u001b[1;32m      9\u001b[0m \u001b[38;5;124;03m    Retrieves the extreme rays associated to the dual subproblem.\u001b[39;00m\n\u001b[1;32m     10\u001b[0m \n\u001b[0;32m   (...)\u001b[0m\n\u001b[1;32m     21\u001b[0m \u001b[38;5;124;03m        and the 2D-list of extreme rays corresponding to u.\u001b[39;00m\n\u001b[1;32m     22\u001b[0m \u001b[38;5;124;03m    \"\"\"\u001b[39;00m\n\u001b[0;32m---> 23\u001b[0m     ray \u001b[38;5;241m=\u001b[39m \u001b[43mmodel\u001b[49m\u001b[38;5;241;43m.\u001b[39;49m\u001b[43mget_engine\u001b[49m\u001b[43m(\u001b[49m\u001b[43m)\u001b[49m\u001b[38;5;241;43m.\u001b[39;49m\u001b[43mget_cplex\u001b[49m\u001b[43m(\u001b[49m\u001b[43m)\u001b[49m\u001b[38;5;241;43m.\u001b[39;49m\u001b[43msolution\u001b[49m\u001b[38;5;241;43m.\u001b[39;49m\u001b[43madvanced\u001b[49m\u001b[38;5;241;43m.\u001b[39;49m\u001b[43mget_ray\u001b[49m\u001b[43m(\u001b[49m\u001b[43m)\u001b[49m\n\u001b[1;32m     25\u001b[0m     \u001b[38;5;28;01mif\u001b[39;00m \u001b[38;5;28misinstance\u001b[39m(u, \u001b[38;5;28mdict\u001b[39m):\n\u001b[1;32m     27\u001b[0m         \u001b[38;5;28;01mdef\u001b[39;00m \u001b[38;5;21mget_uij\u001b[39m(i, j):\n",
      "File \u001b[0;32m~/Bureau/leTPla/venv/lib/python3.10/site-packages/cplex/_internal/_subinterfaces.py:6999\u001b[0m, in \u001b[0;36mAdvancedSolutionInterface.get_ray\u001b[0;34m(self)\u001b[0m\n\u001b[1;32m   6983\u001b[0m \u001b[38;5;28;01mdef\u001b[39;00m \u001b[38;5;21mget_ray\u001b[39m(\u001b[38;5;28mself\u001b[39m):\n\u001b[1;32m   6984\u001b[0m \u001b[38;5;250m    \u001b[39m\u001b[38;5;124;03m\"\"\"Returns an unbounded direction, i.e., ray, if a LP model is unbounded\u001b[39;00m\n\u001b[1;32m   6985\u001b[0m \n\u001b[1;32m   6986\u001b[0m \u001b[38;5;124;03m    Example usage:\u001b[39;00m\n\u001b[0;32m   (...)\u001b[0m\n\u001b[1;32m   6997\u001b[0m \u001b[38;5;124;03m    -1.0\u001b[39;00m\n\u001b[1;32m   6998\u001b[0m \u001b[38;5;124;03m    \"\"\"\u001b[39;00m\n\u001b[0;32m-> 6999\u001b[0m     \u001b[38;5;28;01mreturn\u001b[39;00m \u001b[43mCPX_PROC\u001b[49m\u001b[38;5;241;43m.\u001b[39;49m\u001b[43mgetray\u001b[49m\u001b[43m(\u001b[49m\u001b[38;5;28;43mself\u001b[39;49m\u001b[38;5;241;43m.\u001b[39;49m\u001b[43m_env\u001b[49m\u001b[38;5;241;43m.\u001b[39;49m\u001b[43m_e\u001b[49m\u001b[43m,\u001b[49m\u001b[43m \u001b[49m\u001b[38;5;28;43mself\u001b[39;49m\u001b[38;5;241;43m.\u001b[39;49m\u001b[43m_cplex\u001b[49m\u001b[38;5;241;43m.\u001b[39;49m\u001b[43m_lp\u001b[49m\u001b[43m)\u001b[49m\n",
      "File \u001b[0;32m~/Bureau/leTPla/venv/lib/python3.10/site-packages/cplex/_internal/_procedural.py:2553\u001b[0m, in \u001b[0;36mgetray\u001b[0;34m(env, lp)\u001b[0m\n\u001b[1;32m   2551\u001b[0m z \u001b[38;5;241m=\u001b[39m _safeDoubleArray(zlen)\n\u001b[1;32m   2552\u001b[0m status \u001b[38;5;241m=\u001b[39m CR\u001b[38;5;241m.\u001b[39mCPXXgetray(env, lp, z)\n\u001b[0;32m-> 2553\u001b[0m \u001b[43mcheck_status\u001b[49m\u001b[43m(\u001b[49m\u001b[43menv\u001b[49m\u001b[43m,\u001b[49m\u001b[43m \u001b[49m\u001b[43mstatus\u001b[49m\u001b[43m)\u001b[49m\n\u001b[1;32m   2554\u001b[0m \u001b[38;5;28;01mreturn\u001b[39;00m LAU\u001b[38;5;241m.\u001b[39marray_to_list(z, zlen)\n",
      "File \u001b[0;32m~/Bureau/leTPla/venv/lib/python3.10/site-packages/cplex/_internal/_procedural.py:249\u001b[0m, in \u001b[0;36mStatusChecker.__call__\u001b[0;34m(self, env, status, from_cb)\u001b[0m\n\u001b[1;32m    247\u001b[0m     \u001b[38;5;28;01melse\u001b[39;00m:\n\u001b[1;32m    248\u001b[0m         error_string \u001b[38;5;241m=\u001b[39m geterrorstring(env, status)\n\u001b[0;32m--> 249\u001b[0m \u001b[38;5;28;01mraise\u001b[39;00m CplexSolverError(error_string, env, status)\n",
      "\u001b[0;31mCplexSolverError\u001b[0m: CPLEX Error  1217: No solution exists."
     ]
    }
   ],
   "source": [
    "from docplex.mp.model import Model\n",
    "from docplex.util.status import JobSolveStatus\n",
    "\n",
    "\n",
    "def get_extreme_rays(\n",
    "    N: int, M: int, model: Model, v: Sequence[Var], u: Sequence[Sequence[Var]]\n",
    ") -> Tuple[Sequence[float], Sequence[Sequence[float]]]:\n",
    "    \"\"\"\n",
    "    Retrieves the extreme rays associated to the dual subproblem.\n",
    "\n",
    "    Args:\n",
    "        N: Number of clients.\n",
    "        M: Number of warehouses.\n",
    "        model: The Benders dual subproblem model (docplex.mp.model.Model).\n",
    "        v: 1D array containing the v variables of the subproblem.\n",
    "        u: Either a 2D array of a tuple-index dictionary containing the u variables\n",
    "            of the subproblem.\n",
    "\n",
    "    Returns:\n",
    "        A 2-tuple containing the list of extreme rays correspondig to v,\n",
    "        and the 2D-list of extreme rays corresponding to u.\n",
    "    \"\"\"\n",
    "    ray = model.get_engine().get_cplex().solution.advanced.get_ray()\n",
    "\n",
    "    if isinstance(u, dict):\n",
    "\n",
    "        def get_uij(i, j):\n",
    "            return u[i, j]\n",
    "\n",
    "    else:\n",
    "\n",
    "        def get_uij(i, j):\n",
    "            return u[i][j]\n",
    "\n",
    "    return (\n",
    "        [ray[v[i].index] for i in range(N)],\n",
    "        [[ray[get_uij(i, j).index] for j in range(M)] for i in range(N)],\n",
    "    )\n",
    "\n",
    "\n",
    "# We will start with a small instances with 3 warehouses and 3 clients:\n",
    "N = 3\n",
    "M = 3\n",
    "\n",
    "# Opening and distribution costs:\n",
    "f = [20, 20, 20]\n",
    "c = [[15, 1, 2], [1, 16, 3], [4, 1, 17]]\n",
    "\n",
    "# We stop iterating if the new solution is less than epsilon\n",
    "# better than the previous one:\n",
    "epsilon = 1e-6\n",
    "\n",
    "bettering = True\n",
    "\n",
    "wa, z, y = create_master_problem(N, M, f, c)\n",
    "\n",
    "n = 0\n",
    "while bettering:\n",
    "\n",
    "    # Print iteration:\n",
    "    n = n + 1\n",
    "    print(\"Iteration {}\".format(n))\n",
    "    \n",
    "    u = [[wa.continuous_var(name=f'u_{i}_{j}') for i in range(N)] for j in range(M)] \n",
    "    v = [wa.continuous_var(name=f'v_{i}') for i in range(N)]\n",
    "    v, u = get_extreme_rays(N, M, wa, v, u)\n",
    "    \n",
    "    wa.add_constraint(add_optimality_constraint(N, M, wa, z, y, v, u))\n",
    "    wa.add_constraint(add_feasibility_constraints(N, M, wa, z, y, v, u))\n",
    "    \n",
    "    sol = wa.solve()\n",
    "\n",
    "    dsp, v, u = create_dual_subproblem(N, M, f, c, sol)\n",
    "\n",
    "\n",
    "    # if wa.solve():\n",
    "    #     bettering = False\n",
    "\n",
    "print(\"Done.\")\n"
   ]
  },
  {
   "cell_type": "code",
   "execution_count": 24,
   "metadata": {},
   "outputs": [
    {
     "ename": "NameError",
     "evalue": "name 'docplex' is not defined",
     "output_type": "error",
     "traceback": [
      "\u001b[0;31m---------------------------------------------------------------------------\u001b[0m",
      "\u001b[0;31mNameError\u001b[0m                                 Traceback (most recent call last)",
      "Cell \u001b[0;32mIn[24], line 1\u001b[0m\n\u001b[0;32m----> 1\u001b[0m help(\u001b[43mdocplex\u001b[49m\u001b[38;5;241m.\u001b[39mmp\u001b[38;5;241m.\u001b[39msolution\u001b[38;5;241m.\u001b[39mSolveSolution)\n",
      "\u001b[0;31mNameError\u001b[0m: name 'docplex' is not defined"
     ]
    }
   ],
   "source": [
    "help(docplex.mp.solution.SolveSolution)"
   ]
  },
  {
   "cell_type": "markdown",
   "metadata": {},
   "source": [
    "### 3.4. Generating instances for the Warehouse Allocation problem\n",
    "\n",
    "**Exercice:** Using the TSP instances contained in `tsp.data` or the `generate_distances` method, create instances for the warehouse allocation problem with randomized opening costs."
   ]
  },
  {
   "cell_type": "code",
   "execution_count": null,
   "metadata": {},
   "outputs": [],
   "source": []
  },
  {
   "cell_type": "markdown",
   "metadata": {},
   "source": [
    "<div class=\"alert alert-block alert-danger\"></div>"
   ]
  }
 ],
 "metadata": {
  "kernelspec": {
   "display_name": "venv",
   "language": "python",
   "name": "python3"
  },
  "language_info": {
   "codemirror_mode": {
    "name": "ipython",
    "version": 3
   },
   "file_extension": ".py",
   "mimetype": "text/x-python",
   "name": "python",
   "nbconvert_exporter": "python",
   "pygments_lexer": "ipython3",
   "version": "3.10.12"
  }
 },
 "nbformat": 4,
 "nbformat_minor": 4
}
